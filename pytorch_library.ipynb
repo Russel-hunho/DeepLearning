{
  "nbformat": 4,
  "nbformat_minor": 0,
  "metadata": {
    "colab": {
      "provenance": [],
      "gpuType": "T4",
      "authorship_tag": "ABX9TyPZkPW7j3ZFUeOBSaQn3MdR",
      "include_colab_link": true
    },
    "kernelspec": {
      "name": "python3",
      "display_name": "Python 3"
    },
    "language_info": {
      "name": "python"
    },
    "accelerator": "GPU",
    "gpuClass": "standard"
  },
  "cells": [
    {
      "cell_type": "markdown",
      "metadata": {
        "id": "view-in-github",
        "colab_type": "text"
      },
      "source": [
        "<a href=\"https://colab.research.google.com/github/Russel-hunho/DeepLearning/blob/main/pytorch_library.ipynb\" target=\"_parent\"><img src=\"https://colab.research.google.com/assets/colab-badge.svg\" alt=\"Open In Colab\"/></a>"
      ]
    },
    {
      "cell_type": "markdown",
      "source": [
        "#0. Colab에서 Pytorch 사용하기\n",
        "* Tensorflow와 달리, Pytorch는 Colab의 기본 설치 라이브러리가 아니다..!\n",
        "> 처음 시작시 하기 명령을 통해 설치해줘야 함\n",
        ">> !pip3 install torch\n",
        ">> !pip3 install torchvision\n",
        "\n",
        "* 무료버전의 경우, 12시간마다 런타임이 재설정 된다\n",
        "> 12시간마다 GPU 설정을 해줘야 함\n",
        ">> 상단[런타임]-[런타임유형변경]- [하드웨어가속기]: GPU"
      ],
      "metadata": {
        "id": "GcQ2rCjXPZtP"
      }
    },
    {
      "cell_type": "markdown",
      "source": [
        "#1. 미니 배치와 데이터 로드\n",
        "https://wikidocs.net/55580\n",
        "\n",
        "-. 데이터 로드법\n",
        "\n",
        "-. 미니 배치 경사 하강법(Minibatch Gradient Descent)"
      ],
      "metadata": {
        "id": "w1ipT2YM5gZ5"
      }
    },
    {
      "cell_type": "markdown",
      "source": [
        "###1.1. 미니 배치"
      ],
      "metadata": {
        "id": "hljqsWQ_8NZ2"
      }
    },
    {
      "cell_type": "markdown",
      "source": [
        "미니 배치(Mini Batch): 전체 Training Data를 작은 단위로 나누어서 학습하는 개념\n",
        "\n",
        "> 기본적으로, 학습 Input Data는 Data 여러개를 묶어 행렬로 만들어, Batch 단위로 학습에 사용된다. (= 배치 경사 하강법)\n",
        "\n",
        "> Batch의 크기가 크면 클수록, 가중치 값이 최적값에 수렴하는 과정이 매우 안정적이지만, 계산량이 너무 많이 듬\n",
        "\n",
        "> 미니 배치로 나누어 진행하면 훈련 속도가 빨라진다!"
      ],
      "metadata": {
        "id": "QY3kOpGK556b"
      }
    },
    {
      "cell_type": "markdown",
      "source": [
        "***Iteration, Epoch, Batch Size***\n",
        "\n",
        "Total data가 2000개일 때,\n",
        "이를 Mini Batch 10개로 나누면,\n",
        "> Iteration = 10\n",
        "> Batch Size = 200\n",
        "\n",
        "**Epoch** = 총 학습 수 = 모든 data가 학습에 사용된 횟수\n",
        "\n",
        "<->\n",
        "\n",
        "**Iteration** = 한 Epoch에서 진행되는 학습의 수 = Mini Batch의 수"
      ],
      "metadata": {
        "id": "_DFcmzcm6Isn"
      }
    },
    {
      "cell_type": "markdown",
      "source": [
        "### 1.2. 데이터 로드"
      ],
      "metadata": {
        "id": "DDbeXiB38QBP"
      }
    },
    {
      "cell_type": "markdown",
      "source": [
        "데이터셋(Dataset), 데이터로더(DataLoader)가 제공된다\n",
        "\n",
        "데이터로더: 데이터셋의 학습 방법을 결정\n",
        "\n",
        "    batch_size = 2; 미니 배치의 크기는?\n",
        "    shuffle = True; 미니 배치 data를 섞어 진행할건가?"
      ],
      "metadata": {
        "id": "no5sniht8VHT"
      }
    },
    {
      "cell_type": "markdown",
      "source": [
        "> 미니 배치 학습\n",
        "\n",
        "> 데이터 셔플(shuffle)\n",
        "\n",
        "> 병렬처리"
      ],
      "metadata": {
        "id": "Yyoh5Jmk8dQP"
      }
    },
    {
      "cell_type": "code",
      "source": [
        "import torch\n",
        "import torch.nn as nn\n",
        "import torch.nn.functional as F"
      ],
      "metadata": {
        "id": "Rx5bF-_L7XWs"
      },
      "execution_count": 1,
      "outputs": []
    },
    {
      "cell_type": "code",
      "source": [
        "from torch.utils.data import TensorDataset # 텐서데이터셋\n",
        "from torch.utils.data import DataLoader # 데이터로더"
      ],
      "metadata": {
        "id": "YRKXs0V47XAv"
      },
      "execution_count": 2,
      "outputs": []
    },
    {
      "cell_type": "code",
      "source": [
        "''' 사용법 예시 '''\n",
        "\n",
        "# 데이터 예시\n",
        "x_train  =  torch.FloatTensor([[73,  80,  75], \n",
        "                               [93,  88,  93], \n",
        "                               [89,  91,  90], \n",
        "                               [96,  98,  100],   \n",
        "                               [73,  66,  70]])  \n",
        "y_train  =  torch.FloatTensor([[152],  [185],  [180],  [196],  [142]])\n",
        "\n",
        "# TensorDataset으로 저장하기\n",
        "dataset = TensorDataset(x_train, y_train)\n",
        "\n",
        "# DataLoader 정의\n",
        "dataloader = DataLoader(dataset, batch_size = 2, shuffle = True)\n",
        "  # Batch Size는 2의 지수승으로 정의한다: CPU, GPU의 용량을 최적으로 사용할 수 있음!"
      ],
      "metadata": {
        "id": "7QtpPqNh5fmB"
      },
      "execution_count": 3,
      "outputs": []
    },
    {
      "cell_type": "code",
      "execution_count": 4,
      "metadata": {
        "id": "8zeozgvQ5SJt",
        "colab": {
          "base_uri": "https://localhost:8080/"
        },
        "outputId": "d79bc38b-1d5c-4193-c975-324937b9ddd6"
      },
      "outputs": [
        {
          "output_type": "stream",
          "name": "stdout",
          "text": [
            "Epoch    0/100 Batch 3/3 Cost: 22393.015625\n",
            "Epoch   10/100 Batch 3/3 Cost: 1316.724976\n",
            "Epoch   20/100 Batch 3/3 Cost: 100.580063\n",
            "Epoch   30/100 Batch 3/3 Cost: 11.861453\n",
            "Epoch   40/100 Batch 3/3 Cost: 2.028981\n",
            "Epoch   50/100 Batch 3/3 Cost: 0.550933\n",
            "Epoch   60/100 Batch 3/3 Cost: 0.386782\n",
            "Epoch   70/100 Batch 3/3 Cost: 0.569894\n",
            "Epoch   80/100 Batch 3/3 Cost: 0.101110\n",
            "Epoch   90/100 Batch 3/3 Cost: 0.389862\n",
            "Epoch  100/100 Batch 3/3 Cost: 0.113172\n"
          ]
        }
      ],
      "source": [
        "# 선형 다중 회귀모델로 적용 연습\n",
        "\n",
        "model = nn.Linear(3,1) # 3변수->1변수\n",
        "optimizer = torch.optim.SGD(model.parameters(), lr = 1e-6)\n",
        "\n",
        "nb_epochs = 100\n",
        "for epoch in range(nb_epochs+1):\n",
        "  for batch_idx, samples in enumerate(dataloader):\n",
        "    # Batch Size: 2로 설정, x_train의 data는 5개\n",
        "    # -> 5개중 (2,2,1)로 Batch를 만들어 학습을 진행한다!\n",
        "    \n",
        "    #print(batch_idx)\n",
        "    #print(samples)\n",
        "    \n",
        "    # 미니 bacth data를 train 값으로 설정\n",
        "    x_train, y_train = samples\n",
        "\n",
        "    # H(x)\n",
        "    prediction = model(x_train)\n",
        "\n",
        "    # Cost\n",
        "    cost = F.mse_loss(prediction, y_train)\n",
        "\n",
        "    # Opti\n",
        "    optimizer.zero_grad()\n",
        "    cost.backward()\n",
        "    optimizer.step()\n",
        "\n",
        "\n",
        "  \n",
        "    '''print('Epoch {:4d}/{} Batch {}/{} Cost: {:.6f}'.format(\n",
        "          epoch, nb_epochs, batch_idx+1, len(dataloader), cost.item()\n",
        "        ))'''\n",
        "  if epoch%10 == 0:\n",
        "    print('Epoch {:4d}/{} Batch {}/{} Cost: {:.6f}'.format(\n",
        "          epoch, nb_epochs, batch_idx+1, len(dataloader), cost.item()\n",
        "        ))"
      ]
    },
    {
      "cell_type": "markdown",
      "source": [
        "#2. 커스텀 데이터셋(Custom Dataset)\n",
        "https://wikidocs.net/57165"
      ],
      "metadata": {
        "id": "9_L_KSr9H38S"
      }
    },
    {
      "cell_type": "markdown",
      "source": [
        "torch.utils.data.Dataset을 상속받는 Class를 만들어 커스터마이징 하기도 한다!"
      ],
      "metadata": {
        "id": "UdDPCadfH8ai"
      }
    },
    {
      "cell_type": "code",
      "source": [
        "''' 기본 틀'''\n",
        "\n",
        "class CustomDataset(torch.utils.data.Dataset):\n",
        "  # 생성자; 데이터셋의 전처리 부분\n",
        "  def __init__(self):\n",
        "    return None\n",
        "\n",
        "  # 데이터셋의 길이: 총 샘플의 수를 적어주는 부분\n",
        "  def __len__(self):\n",
        "    return None\n",
        "  \n",
        "  # 데이터셋에서 특정 1개의 샘플을 가져오는 함수\n",
        "  def __getitem__(self, idx):\n",
        "    return None\n"
      ],
      "metadata": {
        "id": "WXRTq1D1H8C7"
      },
      "execution_count": 5,
      "outputs": []
    },
    {
      "cell_type": "code",
      "source": [
        "''' Custom Dataset으로 선형 회귀 구현하기 '''\n",
        "\n",
        "import torch\n",
        "import torch.nn as nn\n",
        "import torch.nn.functional as F\n",
        "from torch.utils.data import Dataset\n",
        "from torch.utils.data import DataLoader\n",
        "\n",
        "## Custom Dataset Class 구현\n",
        "class CustomDataset(Dataset):\n",
        "  def __init__(self):\n",
        "    self.x_data = [[73,80,75],\n",
        "                   [93,88,93],\n",
        "                   [89,91,90],\n",
        "                   [96,98,100],\n",
        "                   [73,66,70]]\n",
        "    self.y_data = [[152],[185],[180],[196],[142]]\n",
        "\n",
        "  # 총 데이터 개수 리턴\n",
        "  def __len__(self):\n",
        "    return len(self.x_data)\n",
        "  \n",
        "  # index(idx)값을 받아, 해당하는 Data를 추출하여 보여준다\n",
        "  def __getitem__(self, idx):\n",
        "    x = torch.FloatTensor(self.x_data[idx])\n",
        "    y = torch.FloatTensor(self.y_data[idx])\n",
        "    return x,y\n",
        "\n",
        "\n",
        "## dataset 정의, Dataloader 설정 (mini batch)\n",
        "dataset = CustomDataset()\n",
        "dataloader = DataLoader(dataset, batch_size = 2, shuffle = True)\n",
        "\n",
        "\n",
        "## model 정의\n",
        "model = nn.Linear(3,1) # 3변수 -> 1변수\n",
        "\n",
        "## Optimizer 정의 : SGD\n",
        "optimizer = torch.optim.SGD(model.parameters(), lr = 1e-5)\n",
        "\n",
        "## 학습\n",
        "nb_epochs = 50\n",
        "for epoch in range(nb_epochs+1):\n",
        "  # 미니배치 실행\n",
        "  for batch_idx, samples in enumerate(dataloader):\n",
        "    x_train, y_train = samples\n",
        "\n",
        "    # H(x) 계산\n",
        "    prediction = model(x_train)\n",
        "\n",
        "    # cost 계산\n",
        "    cost = F.mse_loss(prediction, y_train)\n",
        "\n",
        "    # 개선\n",
        "    optimizer.zero_grad()\n",
        "    cost.backward()\n",
        "    optimizer.step()\n",
        "\n",
        "  #epoch마다 출력\n",
        "  print('Epoch {:4d}/{} Batch {}/{} Cost: {:.6f}'.format(\n",
        "      epoch, nb_epochs, batch_idx+1, len(dataloader),\n",
        "      cost.item()\n",
        "      ))"
      ],
      "metadata": {
        "id": "ndp6kXoFItmX",
        "colab": {
          "base_uri": "https://localhost:8080/"
        },
        "outputId": "857acd25-dd8a-4fc6-ac7f-9abc88d9ac6e"
      },
      "execution_count": 6,
      "outputs": [
        {
          "output_type": "stream",
          "name": "stdout",
          "text": [
            "Epoch    0/50 Batch 3/3 Cost: 9288.707031\n",
            "Epoch    1/50 Batch 3/3 Cost: 181.724686\n",
            "Epoch    2/50 Batch 3/3 Cost: 2.891650\n",
            "Epoch    3/50 Batch 3/3 Cost: 0.308966\n",
            "Epoch    4/50 Batch 3/3 Cost: 0.566995\n",
            "Epoch    5/50 Batch 3/3 Cost: 0.825387\n",
            "Epoch    6/50 Batch 3/3 Cost: 0.130062\n",
            "Epoch    7/50 Batch 3/3 Cost: 0.041297\n",
            "Epoch    8/50 Batch 3/3 Cost: 0.652541\n",
            "Epoch    9/50 Batch 3/3 Cost: 0.536218\n",
            "Epoch   10/50 Batch 3/3 Cost: 0.619493\n",
            "Epoch   11/50 Batch 3/3 Cost: 0.484776\n",
            "Epoch   12/50 Batch 3/3 Cost: 0.643378\n",
            "Epoch   13/50 Batch 3/3 Cost: 0.705491\n",
            "Epoch   14/50 Batch 3/3 Cost: 0.569226\n",
            "Epoch   15/50 Batch 3/3 Cost: 0.510696\n",
            "Epoch   16/50 Batch 3/3 Cost: 0.536442\n",
            "Epoch   17/50 Batch 3/3 Cost: 0.150769\n",
            "Epoch   18/50 Batch 3/3 Cost: 0.705773\n",
            "Epoch   19/50 Batch 3/3 Cost: 0.325396\n",
            "Epoch   20/50 Batch 3/3 Cost: 0.682358\n",
            "Epoch   21/50 Batch 3/3 Cost: 0.612881\n",
            "Epoch   22/50 Batch 3/3 Cost: 0.143489\n",
            "Epoch   23/50 Batch 3/3 Cost: 0.191513\n",
            "Epoch   24/50 Batch 3/3 Cost: 0.474609\n",
            "Epoch   25/50 Batch 3/3 Cost: 0.647326\n",
            "Epoch   26/50 Batch 3/3 Cost: 0.560511\n",
            "Epoch   27/50 Batch 3/3 Cost: 0.076387\n",
            "Epoch   28/50 Batch 3/3 Cost: 0.591990\n",
            "Epoch   29/50 Batch 3/3 Cost: 0.516426\n",
            "Epoch   30/50 Batch 3/3 Cost: 0.069483\n",
            "Epoch   31/50 Batch 3/3 Cost: 0.567708\n",
            "Epoch   32/50 Batch 3/3 Cost: 0.792860\n",
            "Epoch   33/50 Batch 3/3 Cost: 0.476777\n",
            "Epoch   34/50 Batch 3/3 Cost: 0.661297\n",
            "Epoch   35/50 Batch 3/3 Cost: 0.399429\n",
            "Epoch   36/50 Batch 3/3 Cost: 0.716040\n",
            "Epoch   37/50 Batch 3/3 Cost: 0.768645\n",
            "Epoch   38/50 Batch 3/3 Cost: 0.532604\n",
            "Epoch   39/50 Batch 3/3 Cost: 0.712172\n",
            "Epoch   40/50 Batch 3/3 Cost: 0.620695\n",
            "Epoch   41/50 Batch 3/3 Cost: 0.623390\n",
            "Epoch   42/50 Batch 3/3 Cost: 0.568283\n",
            "Epoch   43/50 Batch 3/3 Cost: 0.607779\n",
            "Epoch   44/50 Batch 3/3 Cost: 0.392688\n",
            "Epoch   45/50 Batch 3/3 Cost: 0.073348\n",
            "Epoch   46/50 Batch 3/3 Cost: 0.389082\n",
            "Epoch   47/50 Batch 3/3 Cost: 0.433593\n",
            "Epoch   48/50 Batch 3/3 Cost: 0.029893\n",
            "Epoch   49/50 Batch 3/3 Cost: 0.369926\n",
            "Epoch   50/50 Batch 3/3 Cost: 0.857523\n"
          ]
        }
      ]
    },
    {
      "cell_type": "code",
      "source": [
        "# 결과 확인\n",
        "\n",
        "new_var = torch.FloatTensor([[73,80,75]])\n",
        "pred_y = model(new_var)\n",
        "print(\"훈련 후 입력이 73,80,75일 때의 예측값: \", float(pred_y))"
      ],
      "metadata": {
        "id": "Y27OZmfwLE4g",
        "colab": {
          "base_uri": "https://localhost:8080/"
        },
        "outputId": "1ea2ebcd-6cca-4e30-ba14-1c547dabed16"
      },
      "execution_count": 7,
      "outputs": [
        {
          "output_type": "stream",
          "name": "stdout",
          "text": [
            "훈련 후 입력이 73,80,75일 때의 예측값:  151.52117919921875\n"
          ]
        }
      ]
    },
    {
      "cell_type": "markdown",
      "source": [
        "#3. 토치비전(Torchvision)"
      ],
      "metadata": {
        "id": "arwG7SuZF_7-"
      }
    },
    {
      "cell_type": "markdown",
      "source": [
        "https://wikidocs.net/60324"
      ],
      "metadata": {
        "id": "CAkpgBnmGr7M"
      }
    },
    {
      "cell_type": "markdown",
      "source": [
        "하기 라이브러리들을 포함하고 있는 패키지이다.\n",
        "* 유명한 dataset들\n",
        "* 구현되어있는 유명한 모델들\n",
        "* 일반적인 이미지 전처리 도구들\n",
        "> info: https://pytorch.org/docs/stable/torchvision/index.html\n"
      ],
      "metadata": {
        "id": "354DzQtsGWrz"
      }
    },
    {
      "cell_type": "code",
      "source": [
        "import torchvision\n",
        "import torchvision.datasets as dsets\n",
        "import torchvision.transforms as transforms"
      ],
      "metadata": {
        "id": "PSqeBLrtGJBw"
      },
      "execution_count": 8,
      "outputs": []
    },
    {
      "cell_type": "markdown",
      "source": [
        "# 4. 현재 환경에서 GPU 연산 가능하게 하기"
      ],
      "metadata": {
        "id": "Gsbcv0qWGzhW"
      }
    },
    {
      "cell_type": "markdown",
      "source": [
        "https://wikidocs.net/60324"
      ],
      "metadata": {
        "id": "z1cgZVnPG6JO"
      }
    },
    {
      "cell_type": "code",
      "source": [
        "import torch\n",
        "\n",
        "USE_CUDA = torch.cuda.is_available() # GPU를 사용 가능하면 True, 아니면 False 리턴\n",
        "device = torch.device(\"cuda\" if USE_CUDA else \"cpu\")\n",
        "print(\"다음 기기로 학습합니다: \", device)"
      ],
      "metadata": {
        "id": "2xTmHv8VG5j5",
        "colab": {
          "base_uri": "https://localhost:8080/"
        },
        "outputId": "65ed445d-26fd-4cba-f63d-ad974cd94830"
      },
      "execution_count": 9,
      "outputs": [
        {
          "output_type": "stream",
          "name": "stdout",
          "text": [
            "다음 기기로 학습합니다:  cuda\n"
          ]
        }
      ]
    }
  ]
}