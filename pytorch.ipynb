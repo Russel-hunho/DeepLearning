{
  "nbformat": 4,
  "nbformat_minor": 0,
  "metadata": {
    "colab": {
      "provenance": [],
      "gpuType": "T4",
      "authorship_tag": "ABX9TyOcK3qObEOQHsC6kpVsSd4j",
      "include_colab_link": true
    },
    "kernelspec": {
      "name": "python3",
      "display_name": "Python 3"
    },
    "language_info": {
      "name": "python"
    },
    "accelerator": "GPU",
    "gpuClass": "standard"
  },
  "cells": [
    {
      "cell_type": "markdown",
      "metadata": {
        "id": "view-in-github",
        "colab_type": "text"
      },
      "source": [
        "<a href=\"https://colab.research.google.com/github/Russel-hunho/DeepLearning/blob/main/pytorch.ipynb\" target=\"_parent\"><img src=\"https://colab.research.google.com/assets/colab-badge.svg\" alt=\"Open In Colab\"/></a>"
      ]
    },
    {
      "cell_type": "code",
      "execution_count": null,
      "metadata": {
        "id": "HDrMas2hbpkc"
      },
      "outputs": [],
      "source": [
        "import torch\n",
        "import numpy as np\n",
        "import pandas as pd\n",
        "\n",
        "# 데이터 시각화를 위한 라이브러리\n",
        "import matplotlib.pyplot as plt\n",
        "import seaborn as sns\n",
        "\n",
        "# 디렉토리 내 파일들의 리스트를 뽑을 때 사용\n",
        "import glob\n",
        "# 이미지, 오디오, 비디오 등을 표시\n",
        "import IPython.display as ipd"
      ]
    },
    {
      "cell_type": "markdown",
      "source": [
        "# MNIST의 손글씨 숫자 이미지 데이터 분류\n",
        "(https://wikidocs.net/195595)\n",
        "(https://tensorflowkorea.gitbooks.io/tensorflow-kr/content/g3doc/tutorials/mnist/beginners/)"
      ],
      "metadata": {
        "id": "WJEwb2ISFCZW"
      }
    },
    {
      "cell_type": "markdown",
      "source": [
        "### 1. 데이터 전처리"
      ],
      "metadata": {
        "id": "XrqjhUl3t1Qt"
      }
    },
    {
      "cell_type": "code",
      "source": [
        "# MNIST Data 불러오기\n",
        "glob.glob('./**/*mnist*.*')"
      ],
      "metadata": {
        "id": "X3emChOYcOxE",
        "colab": {
          "base_uri": "https://localhost:8080/"
        },
        "outputId": "014cc917-926c-48dc-9c7e-4089cd84a1c8"
      },
      "execution_count": null,
      "outputs": [
        {
          "output_type": "execute_result",
          "data": {
            "text/plain": [
              "['./sample_data/mnist_train_small.csv', './sample_data/mnist_test.csv']"
            ]
          },
          "metadata": {},
          "execution_count": 3
        }
      ]
    },
    {
      "cell_type": "code",
      "source": [
        "# Pandas Dataframe으로 저장\n",
        "\n",
        "# 학습용으로 쓸 data: 19999개\n",
        "df = pd.read_csv('./sample_data/mnist_train_small.csv')\n",
        "# 학습 후, test용으로 쓸 data: 9999개\n",
        "df_test = pd.read_csv('./sample_data/mnist_test.csv')\n",
        "\n",
        "print(df.shape, df_test.shape) # Data Size 출력\n",
        "# 785 = 1 + 28*28\n",
        "  # 1개의 index값(숫자)과, 28*28 size에 해당하는 이미지의 각 픽셀의 흑/백 음영 정도를 나타내는 숫자 기록(0~1사이의 실수)"
      ],
      "metadata": {
        "colab": {
          "base_uri": "https://localhost:8080/"
        },
        "id": "NgYIa1lAFXVL",
        "outputId": "a096f8ba-3ca9-49ac-9a3b-778961debf62"
      },
      "execution_count": null,
      "outputs": [
        {
          "output_type": "stream",
          "name": "stdout",
          "text": [
            "(19999, 785) (9999, 785)\n"
          ]
        }
      ]
    },
    {
      "cell_type": "code",
      "source": [
        "# 시각화 함수\n",
        "def imshowTen(imgs,labels):\n",
        "    fig,axs = plt.subplots(1,10, figsize=(10,2))\n",
        "    for i, ax in enumerate(axs.flat):\n",
        "        ax.imshow(imgs.reshape(-1,28,28,1)[i])\n",
        "          # tensor 내 data를 28*28 픽셀 이미지로 변환하여 저장\n",
        "        ax.set_title(f\"{labels[i]}\")\n",
        "        ax.set_xticks([]) #각 이미지의 xtick(x축 눈금)을 비운다\n",
        "        ax.set_yticks([]) #각 이미지의 ytick(y축 눈금)을 비운다\n",
        "\n",
        "#print(df)\n",
        "# 0열은 숫자(정답), 1열부터는 그 숫자에 해당하는 손글씨 이미지(28X28픽셀)들이 저장되어있음\n",
        "  # https://tensorflowkorea.gitbooks.io/tensorflow-kr/content/g3doc/tutorials/mnist/beginners/ 참고\n",
        "\n",
        "''' 예시로 10개 data만 시각화해보자! '''\n",
        "\n",
        "data = df.iloc[:10, 1:].to_numpy()\n",
        "  # 0~9행, 1~끝까지 열만, ndarray로 변환하여 저장: 이미지들만 저장됨!\n",
        "  # print(type(data), data.shape)\n",
        "  # print(data)\n",
        "labels = df.iloc[:10, 0].to_numpy()\n",
        "  # 0~9행의 0열만, ndarray로 저장\n",
        "  # print(labels)\n",
        "    # [5 7 9 5 2 0 6 5 5 2]\n",
        "imgs = data.reshape(-1,28,28,1)\n",
        "  # 10*784 data를, 10*28*28*1 tensor 형태로 바꿔줌\n",
        "print(imgs.shape)\n",
        "# 시각화\n",
        "imshowTen(imgs,labels)"
      ],
      "metadata": {
        "colab": {
          "base_uri": "https://localhost:8080/",
          "height": 143
        },
        "id": "49OVOBeFFe6o",
        "outputId": "a1b234de-d8af-47c9-db75-308feb7a77b4"
      },
      "execution_count": null,
      "outputs": [
        {
          "output_type": "stream",
          "name": "stdout",
          "text": [
            "(10, 28, 28, 1)\n"
          ]
        },
        {
          "output_type": "display_data",
          "data": {
            "text/plain": [
              "<Figure size 1000x200 with 10 Axes>"
            ],
            "image/png": "[encoded data removed]"
          },
          "metadata": {}
        }
      ]
    },
    {
      "cell_type": "markdown",
      "source": [
        "### 2. 소프트맥스 회귀\n",
        "(https://wikidocs.net/60324)\n",
        "(https://tensorflowkorea.gitbooks.io/tensorflow-kr/content/g3doc/tutorials/mnist/beginners/)\n"
      ],
      "metadata": {
        "id": "q7ubiawst-se"
      }
    },
    {
      "cell_type": "code",
      "source": [
        "# import torch\n",
        "import torchvision.datasets as dsets\n",
        "  # 데이터셋 제공\n",
        "import torchvision.transforms as transforms\n",
        "  # 전처리 Tool 제공\n",
        "from torch.utils.data import DataLoader\n",
        "  # \n",
        "import torch.nn as nn\n",
        "import matplotlib.pyplot as plt\n",
        "import random"
      ],
      "metadata": {
        "id": "Uw15ga56f0CL"
      },
      "execution_count": null,
      "outputs": []
    },
    {
      "cell_type": "code",
      "source": [
        "USE_CUDA = torch.cuda.is_available() # GPU를 사용가능하면 True, 아니라면 False를 리턴\n",
        "device = torch.device(\"cuda\" if USE_CUDA else \"cpu\") # GPU 사용 가능하면 사용하고 아니면 CPU 사용\n",
        "print(\"다음 기기로 학습합니다:\", device)"
      ],
      "metadata": {
        "colab": {
          "base_uri": "https://localhost:8080/"
        },
        "id": "DHYWx16EyvY6",
        "outputId": "400f31d5-3022-4172-d456-184ea179dc97"
      },
      "execution_count": null,
      "outputs": [
        {
          "output_type": "stream",
          "name": "stdout",
          "text": [
            "다음 기기로 학습합니다: cuda\n"
          ]
        }
      ]
    },
    {
      "cell_type": "code",
      "source": [
        "''' random seed 고정 '''\n",
        "# for reproducibility (재현성, seed 고정으로 random 추출 값이 항상 일정해짐)\n",
        "random.seed(777)\n",
        "torch.manual_seed(777)\n",
        "if device == 'cuda':\n",
        "    torch.cuda.manual_seed_all(777)"
      ],
      "metadata": {
        "id": "MEOg7V0nzWCW"
      },
      "execution_count": null,
      "outputs": []
    },
    {
      "cell_type": "code",
      "source": [
        "# hyperparameters\n",
        "training_epochs = 15\n",
        "batch_size = 100"
      ],
      "metadata": {
        "id": "wgPs7nlvzqSe"
      },
      "execution_count": null,
      "outputs": []
    },
    {
      "cell_type": "code",
      "source": [],
      "metadata": {
        "id": "FDsgsT4ozuI9"
      },
      "execution_count": null,
      "outputs": []
    }
  ]
}