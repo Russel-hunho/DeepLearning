{
  "nbformat": 4,
  "nbformat_minor": 0,
  "metadata": {
    "colab": {
      "provenance": [],
      "authorship_tag": "ABX9TyPQrSyXaJR96Xy3wkfwHMdi",
      "include_colab_link": true
    },
    "kernelspec": {
      "name": "python3",
      "display_name": "Python 3"
    },
    "language_info": {
      "name": "python"
    }
  },
  "cells": [
    {
      "cell_type": "markdown",
      "metadata": {
        "id": "view-in-github",
        "colab_type": "text"
      },
      "source": [
        "<a href=\"https://colab.research.google.com/github/Russel-hunho/DeepLearning/blob/main/pytorch_basic.ipynb\" target=\"_parent\"><img src=\"https://colab.research.google.com/assets/colab-badge.svg\" alt=\"Open In Colab\"/></a>"
      ]
    },
    {
      "cell_type": "markdown",
      "source": [
        "(https://wikidocs.net/52415)\n",
        "# 파이토치 기본"
      ],
      "metadata": {
        "id": "gM_f_Mgv0gEr"
      }
    },
    {
      "cell_type": "markdown",
      "source": [
        "### 1. 파이토치 패키지"
      ],
      "metadata": {
        "id": "yEWaVK9f2GxT"
      }
    },
    {
      "cell_type": "code",
      "execution_count": 2,
      "metadata": {
        "id": "yAQ_6h_r0Bjp"
      },
      "outputs": [],
      "source": [
        "import torch\n",
        "  # main\n",
        "import torch.autograd\n",
        "  # 자동 미분 기능\n",
        "import torch.nn\n",
        "  # 신경망 구축을 위한 다양한 데이터구조, 레이어 등이 정의됨\n",
        "    # RNN, LSTM 등의 레이어 / ReLU 등의 활성화함수 / MSELoss 등의 손실함수\n",
        "import torch.optim\n",
        "  # SGD(Stochastic Gradient Descent, 확률적 경사 하강법) 중심의, 파라미터 최적화 알고리즘 구현\n",
        "import torch.utils.data\n",
        "  # SGD의 반복연산을 실행할 때 사용하는 미니 배치용 유틸리티 함수 포함\n",
        "import torch.onnx\n",
        "  # ONNX(Open Neural Network Exchange) 포맷.\n",
        "    # 모델을 export할 때 사용됨, 서로다른 딥 러닝 프레임워크 간 모델 공유 시에 사용\n",
        "\n",
        "\n"
      ]
    },
    {
      "cell_type": "markdown",
      "source": [
        "### 2. 텐서 조작하기 1"
      ],
      "metadata": {
        "id": "VTYb72PA2KbZ"
      }
    },
    {
      "cell_type": "markdown",
      "source": [
        "[example]\n",
        "1. 2D Tensor for Simple Setting\n",
        "\n",
        "  |t| = (Batch size, dim)\n",
        "2. 3D Tensor for 컴퓨터비전\n",
        "\n",
        "  |t| = (Batch size, width, height)\n",
        "3. 3D Tensor for 자연어 처리(NLP)\n",
        "\n",
        "  |t| = (Batch size, length, dim)\n",
        "        lenght = 문장길이\n",
        "        dim = 단어 벡터의 차원\n"
      ],
      "metadata": {
        "id": "dySYTy2-2wd2"
      }
    },
    {
      "cell_type": "code",
      "source": [
        "''' NLP 3D Tensor 변환 이해하기 '''\n",
        "## 1차원 입력 raw data\n",
        "A = [\"나는 사과를 좋아해\", \"나는 바나나를 좋아해\", \"나는 사과를 싫어해\", \"나는 바나나를 싫어해\"]\n",
        "\n",
        "## 2D로 변환 for 단어 구분\n",
        "  # 4x3 2D Tensor\n",
        "B = [[\"나는\", \"사과를\", \"좋아해\"],\n",
        " [\"나는\", \"바나나를\", \"좋아해\"],\n",
        "  [\"나는\", \"사과를\", \"싫어해\"],\n",
        "  [\"나는\", \"바나나를\", \"싫어해\"]]\n",
        "\n",
        "## 각 단어를 vector로 변환하여, 3D로 변환\n",
        "'''\n",
        "  '나는' = [0.1, 0.2, 0.9]\n",
        "  '사과를' = [0.3, 0.5, 0.1]\n",
        "  '바나나를' = [0.3, 0.5, 0.2]\n",
        "  '좋아해' = [0.7, 0.6, 0.5]\n",
        "  '싫어해' = [0.5, 0.6, 0.7]\n",
        "'''\n",
        "C = [[[0.1, 0.2, 0.9], [0.3, 0.5, 0.1], [0.7, 0.6, 0.5]],\n",
        " [[0.1, 0.2, 0.9], [0.3, 0.5, 0.2], [0.7, 0.6, 0.5]],\n",
        " [[0.1, 0.2, 0.9], [0.3, 0.5, 0.1], [0.5, 0.6, 0.7]],\n",
        " [[0.1, 0.2, 0.9], [0.3, 0.5, 0.2], [0.5, 0.6, 0.7]]]\n",
        "\n",
        "## Batch size=2 로, Data 구분\n",
        "Batch1 = [[[0.1, 0.2, 0.9], [0.3, 0.5, 0.1], [0.7, 0.6, 0.5]],\n",
        "         [[0.1, 0.2, 0.9], [0.3, 0.5, 0.2], [0.7, 0.6, 0.5]]]\n",
        "Batch2 = [[[0.1, 0.2, 0.9], [0.3, 0.5, 0.1], [0.5, 0.6, 0.7]],\n",
        "         [[0.1, 0.2, 0.9], [0.3, 0.5, 0.2], [0.5, 0.6, 0.7]]]\n"
      ],
      "metadata": {
        "id": "ibKJcmEb2KFz"
      },
      "execution_count": 3,
      "outputs": []
    },
    {
      "cell_type": "code",
      "source": [
        "''' Numpy로 Tensor 만들기 '''\n",
        "\n",
        "import numpy as np\n",
        "\n",
        "# 1D\n",
        "t = np.array([0.,1.,2.,3.,4.,5.,6.])\n",
        "print(t)\n",
        "print(\"Rank of t: \", t.ndim)\n",
        "print(\"Shape of t: \", t.shape, end=\"\\n\\n\")\n",
        "\n",
        "print(\"t[0] t[1] t[-1] = \", t[0], t[1], t[-1])\n",
        "  #slicing \n",
        "print('t[2:5] t[4:-1]  = ', t[2:5], t[4:-1])\n",
        "print('t[:2] t[3:]     = ', t[:2], t[3:], end=\"\\n\\n\\n\")\n",
        "\n",
        "# 2D\n",
        "t = np.array([[1., 2., 3.], [4., 5., 6.], [7., 8., 9.], [10., 11., 12.]])\n",
        "print(t)\n",
        "print('Rank  of t: ', t.ndim)\n",
        "print('Shape of t: ', t.shape)"
      ],
      "metadata": {
        "colab": {
          "base_uri": "https://localhost:8080/"
        },
        "id": "GRmaP1pA3kA0",
        "outputId": "242c723a-a733-4150-8df8-8943900e9e41"
      },
      "execution_count": 4,
      "outputs": [
        {
          "output_type": "stream",
          "name": "stdout",
          "text": [
            "[0. 1. 2. 3. 4. 5. 6.]\n",
            "Rank of t:  1\n",
            "Shape of t:  (7,)\n",
            "\n",
            "t[0] t[1] t[-1] =  0.0 1.0 6.0\n",
            "t[2:5] t[4:-1]  =  [2. 3. 4.] [4. 5.]\n",
            "t[:2] t[3:]     =  [0. 1.] [3. 4. 5. 6.]\n",
            "\n",
            "\n",
            "[[ 1.  2.  3.]\n",
            " [ 4.  5.  6.]\n",
            " [ 7.  8.  9.]\n",
            " [10. 11. 12.]]\n",
            "Rank  of t:  2\n",
            "Shape of t:  (4, 3)\n"
          ]
        }
      ]
    },
    {
      "cell_type": "code",
      "source": [
        "''' PyTorch로 Tensor 만들기 '''\n",
        "\n",
        "import torch\n",
        "\n",
        "## 1D\n",
        "t = torch.FloatTensor( [0., 1., 2., 3., 4., 5., 6. ] )\n",
        "print(t)\n",
        "print(t.dim())  # rank. 즉, 차원\n",
        "print(t.shape)  # shape\n",
        "print(t.size()) # size = shape\n",
        "print(type(t), end=\"\\n\\n\")\n",
        "\n",
        "print(t[0], t[1], t[-1])  # 인덱스로 접근\n",
        "print(t[2:5], t[4:-1])    # 슬라이싱\n",
        "print(t[:2], t[3:])       # 슬라이싱\n",
        "\n",
        "## 2D\n",
        "t = torch.FloatTensor([[1., 2., 3.],\n",
        "                       [4., 5., 6.],\n",
        "                       [7., 8., 9.],\n",
        "                       [10., 11., 12.]])\n",
        "print(t)\n",
        "print(t.dim())  # rank. 즉, 차원\n",
        "print(t.size(), end = \"\\n\\n\") # shape\n",
        "\n",
        "print(t[:,1])\n",
        "print(t[:,1].size())\n",
        "\n",
        "\n"
      ],
      "metadata": {
        "colab": {
          "base_uri": "https://localhost:8080/"
        },
        "id": "qlJCoYVG6o-O",
        "outputId": "82df9de4-3876-4867-f51e-19f8fba50c87"
      },
      "execution_count": 5,
      "outputs": [
        {
          "output_type": "stream",
          "name": "stdout",
          "text": [
            "tensor([0., 1., 2., 3., 4., 5., 6.])\n",
            "1\n",
            "torch.Size([7])\n",
            "torch.Size([7])\n",
            "<class 'torch.Tensor'>\n",
            "\n",
            "tensor(0.) tensor(1.) tensor(6.)\n",
            "tensor([2., 3., 4.]) tensor([4., 5.])\n",
            "tensor([0., 1.]) tensor([3., 4., 5., 6.])\n",
            "tensor([[ 1.,  2.,  3.],\n",
            "        [ 4.,  5.,  6.],\n",
            "        [ 7.,  8.,  9.],\n",
            "        [10., 11., 12.]])\n",
            "2\n",
            "torch.Size([4, 3])\n",
            "\n",
            "tensor([ 2.,  5.,  8., 11.])\n",
            "torch.Size([4])\n"
          ]
        }
      ]
    },
    {
      "cell_type": "code",
      "source": [
        "'''브로드캐스팅'''\n",
        "## 사칙연산을 위해 두 행렬의 크기를 자동으로 맞춰 연산\n",
        "\n",
        "## 1. 같은 크기의 두 tensor일 경우\n",
        "m1 = torch.FloatTensor( [[3,3]] )\n",
        "m2 = torch.FloatTensor( [[2,2]] )\n",
        "print(m1+m2, end = \"\\n\\n\")\n",
        "\n",
        "## 2. 다른 크기의 두 Tensor일 경우\n",
        "\n",
        "# 2.1. vector + scalar: scalar가 vector size에 맞게 복제됨\n",
        "m1 = torch.FloatTensor([[1, 2]])\n",
        "m2 = torch.FloatTensor([3]) # [3] -> [3, 3]\n",
        "print(m1+m2, end = \"\\n\\n\")\n",
        "\n",
        "# 2.2. 2 x 1 Vector + 1 x 2 Vector\n",
        "m1 = torch.FloatTensor([[1, 2]]) # [[1,2]] -> [[1,2],[1,2]]\n",
        "m2 = torch.FloatTensor([[3], [4]]) # [[3],[4]] -> [[3,3], [4,4]]\n",
        "print(m1+m2, end = \"\\n\\n\")"
      ],
      "metadata": {
        "colab": {
          "base_uri": "https://localhost:8080/"
        },
        "id": "K3xBDwvn8ghF",
        "outputId": "5abda095-03fc-46cf-ad85-fca878128aaf"
      },
      "execution_count": 6,
      "outputs": [
        {
          "output_type": "stream",
          "name": "stdout",
          "text": [
            "tensor([[5., 5.]])\n",
            "\n",
            "tensor([[4., 5.]])\n",
            "\n",
            "tensor([[4., 5.],\n",
            "        [5., 6.]])\n",
            "\n"
          ]
        }
      ]
    },
    {
      "cell_type": "code",
      "source": [
        "''' 행렬곱셈(matmul)과 곱셈(*)의 차이'''\n",
        "\n",
        "m1 = torch.FloatTensor([[1, 2], [3, 4]])\n",
        "m2 = torch.FloatTensor([[1], [2]])\n",
        "print('Shape of Matrix 1: ', m1.shape) # 2 x 2\n",
        "print('Shape of Matrix 2: ', m2.shape) # 2 x 1\n",
        "print(\"\")\n",
        "\n",
        "## 행렬곱셈(matmul):\n",
        "print(m1.matmul(m2)) # 2 x 1\n",
        "print(\"\")\n",
        "\n",
        "## 곱셈(*):\n",
        "print(m1 * m2) # 2 x 2\n",
        "  # m2가 m1 size에 맞게 브로드캐스팅 된 후, 같은 위치의 값들끼리만 곱해짐\n",
        "print(m1.mul(m2)) # 같은 결과"
      ],
      "metadata": {
        "colab": {
          "base_uri": "https://localhost:8080/"
        },
        "id": "nyi38Zkr8mbp",
        "outputId": "e9f0432a-ad63-430b-9665-e27745071511"
      },
      "execution_count": 7,
      "outputs": [
        {
          "output_type": "stream",
          "name": "stdout",
          "text": [
            "Shape of Matrix 1:  torch.Size([2, 2])\n",
            "Shape of Matrix 2:  torch.Size([2, 1])\n",
            "\n",
            "tensor([[ 5.],\n",
            "        [11.]])\n",
            "\n",
            "tensor([[1., 2.],\n",
            "        [6., 8.]])\n",
            "tensor([[1., 2.],\n",
            "        [6., 8.]])\n"
          ]
        }
      ]
    },
    {
      "cell_type": "code",
      "source": [
        "''' 다양한 연산 '''\n",
        "\n",
        "## 평균\n",
        "t = torch.FloatTensor([1,2])\n",
        "print(t.mean())\n",
        "print(int(t.mean()), end=\"\\n\\n\")\n",
        "\n",
        "t = torch.FloatTensor([[1,2],[3,4]])\n",
        "print(t.mean()) # 전체 원소의 평균\n",
        "print(t.mean(dim=0)) # 첫번째 차원(행)을 제거, 각 열의 평균을 구함\n",
        "print(t.mean(dim=1)) # 두번째 차원(열)을 제거, 각 행의 평균을 구함\n",
        "print(t.mean(dim=-1)) # 마지막 차원(=두번째=열)을 제거, 각 행의 평균을 구함\n",
        "try: print(t.mean(dim=2))\n",
        "except:  print(\"Fail\")\n",
        "print()\n",
        "\n",
        "## 덧셈\n",
        "t = torch.FloatTensor([[1,2],[3,4]])\n",
        "print(t.sum()) # 전체 합\n",
        "print(t.sum(dim=0)) # 행 제거\n",
        "print(t.sum(dim=1)) # 열 제거\n",
        "print(t.sum(dim=-1)) # 열 제거\n",
        "print()\n",
        "\n",
        "## 최댓값(Max), 아그맥스(ArgMax)\n",
        "t =torch.FloatTensor( [[1,2],[3,4]] )\n",
        "print(t.max()) # 전체의 최댓값\n",
        "print(t.max(dim=0)) # 행 제거\n",
        "  # 1. \"각 열의 최댓값\"(max) + 2. \"각 열 최댓값의 위치(행 값)\"(ArgMax) 반환\n",
        "print(\"Max: \", t.max(dim=0)[0]) # 각 열의 최댓값만\n",
        "print(\"ArgMax: \", t.max(dim=0)[1]) # 각 열의 argmax만\n",
        "print(t.argmax()) #전체 최댓값의 위치. 0,1,2,3중 4가 위치한 3\n",
        "print(t.argmax(dim=0))"
      ],
      "metadata": {
        "colab": {
          "base_uri": "https://localhost:8080/"
        },
        "id": "06eyJQ4QCwLB",
        "outputId": "a063119e-9803-4efb-98c3-3158e0bbf1d1"
      },
      "execution_count": 8,
      "outputs": [
        {
          "output_type": "stream",
          "name": "stdout",
          "text": [
            "tensor(1.5000)\n",
            "1\n",
            "\n",
            "tensor(2.5000)\n",
            "tensor([2., 3.])\n",
            "tensor([1.5000, 3.5000])\n",
            "tensor([1.5000, 3.5000])\n",
            "Fail\n",
            "\n",
            "tensor(10.)\n",
            "tensor([4., 6.])\n",
            "tensor([3., 7.])\n",
            "tensor([3., 7.])\n",
            "\n",
            "tensor(4.)\n",
            "torch.return_types.max(\n",
            "values=tensor([3., 4.]),\n",
            "indices=tensor([1, 1]))\n",
            "Max:  tensor([3., 4.])\n",
            "ArgMax:  tensor([1, 1])\n",
            "tensor(3)\n",
            "tensor([1, 1])\n"
          ]
        }
      ]
    },
    {
      "cell_type": "markdown",
      "source": [
        "### 3. 텐서 조작하기 2"
      ],
      "metadata": {
        "id": "LWwjlu4UkhOn"
      }
    },
    {
      "cell_type": "code",
      "source": [
        "''' View '''\n",
        "## 원소의 수를 유지하면서, Tensor의 크기&차원을 변경\n",
        "## Numpy의 Reshape 기능\n",
        "\n",
        "t = np.array([[ [0,1,2], [3,4,5] ],\n",
        "              [ [6,7,8], [9,10,11] ]])\n",
        "ft = torch.FloatTensor(t)\n",
        "\n",
        "print(ft.shape, end=\"\\n\\n\")\n",
        "  #(2,2,3)\n",
        "\n",
        "# 3차원에서 2차원으로 변경\n",
        "print(ft.view([-1,3]))\n",
        "print(ft.view([-1,3]).shape, end=\"\\n\\n\")\n",
        "  # 총 원소의 개수는 항상 유지됨!\n",
        "  # size를 -1로 설정시, 다른 차원으로부터 해당 값을 유추한다!\n",
        "\n",
        "# (2,2,3)->(?,1,3)\n",
        "print(ft.view([-1,1,3]))\n",
        "print(ft.view([-1,1,3]).shape, end=\"\\n\\n\")"
      ],
      "metadata": {
        "colab": {
          "base_uri": "https://localhost:8080/"
        },
        "id": "P2EMfvldiWyF",
        "outputId": "2f369565-b507-4bd3-b225-b27214bf9e45"
      },
      "execution_count": 9,
      "outputs": [
        {
          "output_type": "stream",
          "name": "stdout",
          "text": [
            "torch.Size([2, 2, 3])\n",
            "\n",
            "tensor([[ 0.,  1.,  2.],\n",
            "        [ 3.,  4.,  5.],\n",
            "        [ 6.,  7.,  8.],\n",
            "        [ 9., 10., 11.]])\n",
            "torch.Size([4, 3])\n",
            "\n",
            "tensor([[[ 0.,  1.,  2.]],\n",
            "\n",
            "        [[ 3.,  4.,  5.]],\n",
            "\n",
            "        [[ 6.,  7.,  8.]],\n",
            "\n",
            "        [[ 9., 10., 11.]]])\n",
            "torch.Size([4, 1, 3])\n",
            "\n"
          ]
        }
      ]
    },
    {
      "cell_type": "code",
      "source": [
        "''' 스퀴즈(Squeeze)'''\n",
        "## 1인 차원을 제거한다\n",
        "\n",
        "ft = torch.FloatTensor([[0],[1],[2]])\n",
        "print(ft)\n",
        "print(ft.shape, end=\"\\n\\n\")\n",
        "\n",
        "print(ft.squeeze())\n",
        "print(ft.squeeze().shape, end=\"\\n\\n\\n\")\n",
        "\n",
        "''' 언스퀴즈(Unsqueeze)'''\n",
        "## 특정 위치에 1인 차원을 추가한다\n",
        "\n",
        "ft = torch.FloatTensor([0,1,2])\n",
        "print(ft.shape, end=\"\\n\\n\")\n",
        "\n",
        "# Case1\n",
        "print(ft.unsqueeze(0)) # 0번째 index = 1번째 차원에 추가\n",
        "print(ft.unsqueeze(0).shape)\n",
        "\n",
        "# Case2\n",
        "print(ft.unsqueeze(1))\n",
        "print(ft.unsqueeze(1).shape, end=\"\\n\\n\")\n",
        "\n",
        "''' view로 unsqueeze 구현 '''\n",
        "# Case1\n",
        "print(ft.view(1,-1))\n",
        "print(ft.view(1,-1).shape)\n",
        "#Case2\n",
        "print(ft.view(-1,1))\n",
        "print(ft.view(-1,1).shape)"
      ],
      "metadata": {
        "colab": {
          "base_uri": "https://localhost:8080/"
        },
        "id": "pIjwjlXhmRo6",
        "outputId": "97d19828-0ab1-4046-ea23-1b44d50297aa"
      },
      "execution_count": 14,
      "outputs": [
        {
          "output_type": "stream",
          "name": "stdout",
          "text": [
            "tensor([[0.],\n",
            "        [1.],\n",
            "        [2.]])\n",
            "torch.Size([3, 1])\n",
            "\n",
            "tensor([0., 1., 2.])\n",
            "torch.Size([3])\n",
            "\n",
            "\n",
            "torch.Size([3])\n",
            "\n",
            "tensor([[0., 1., 2.]])\n",
            "torch.Size([1, 3])\n",
            "tensor([[0.],\n",
            "        [1.],\n",
            "        [2.]])\n",
            "torch.Size([3, 1])\n",
            "\n",
            "tensor([[0., 1., 2.]])\n",
            "torch.Size([1, 3])\n",
            "tensor([[0.],\n",
            "        [1.],\n",
            "        [2.]])\n",
            "torch.Size([3, 1])\n"
          ]
        }
      ]
    },
    {
      "cell_type": "code",
      "source": [
        "'''타입 캐스팅(Type Casting)'''\n",
        "lt = torch.LongTensor([1,2,3,4]) # long타입 Tensor 선언\n",
        "print(lt)\n",
        "print(lt.float()) # float형으로 변경\n",
        "\n",
        "bt = torch.ByteTensor([True, False, False, True]) # Byte 타입\n",
        "\n",
        "print(bt)\n",
        "print(bt.long())\n",
        "print(bt.float())\n",
        "\n",
        "'''소수'''\n",
        "# Float: 32 bit floating point\n",
        "t = torch.FloatTensor([1])\n",
        "# Double: 64 bit floating point\n",
        "t = torch.DoubleTensor([1])\n",
        "# Half: 16 bit floating point\n",
        "t = torch.HalfTensor([1])\n",
        "'''정수'''\n",
        "# Int: 32 bit integer\n",
        "t = torch.IntTensor([1])\n",
        "# Long: 64 bit integer\n",
        "t = torch.LongTensor([1])\n",
        "# Short: 16 bit integer\n",
        "t = torch.ShortTensor([1])\n",
        "# Char: 8 bit signed integer\n",
        "t = torch.CharTensor([1])\n",
        "# Byte: 8 bit unsigned integer\n",
        "t = torch.ByteTensor([1])"
      ],
      "metadata": {
        "colab": {
          "base_uri": "https://localhost:8080/"
        },
        "id": "v5SYe62_nA_s",
        "outputId": "909ab6e8-8c88-4ffc-b920-21711b936ae8"
      },
      "execution_count": 17,
      "outputs": [
        {
          "output_type": "stream",
          "name": "stdout",
          "text": [
            "tensor([1, 2, 3, 4])\n",
            "tensor([1., 2., 3., 4.])\n",
            "tensor([1, 0, 0, 1], dtype=torch.uint8)\n",
            "tensor([1, 0, 0, 1])\n",
            "tensor([1., 0., 0., 1.])\n"
          ]
        }
      ]
    },
    {
      "cell_type": "code",
      "source": [
        "'''연결하기(concatenate)'''\n",
        "## torch.cat([A,B,C])\n",
        "\n",
        "x = torch.FloatTensor([[1,2],[3,4]])\n",
        "y = torch.FloatTensor([[5,6],[7,8]])\n",
        "\n",
        "print(torch.cat([x,y],dim = 0)) # 첫번째 차원을 늘려라 -> [4,2]가 된다\n",
        "print(torch.cat([x,y],dim = 1)) # 두번째 차원을 늘려라 -> [2,4]가 된다\n",
        "print()\n",
        "\n",
        "x = torch.FloatTensor([[1,2],[3,4]]) # [2,2]\n",
        "y = torch.FloatTensor([[5,6],[7,8],[9,10]]) # [3,2]\n",
        "\n",
        "print(torch.cat([x,y],dim = 0)) # 첫번째 차원을 늘려라 -> [5,2]가 된다\n",
        "try:\n",
        "  print(torch.cat([x,y],dim = 1)) # 두번째 차원을 늘려라 -> 두번째 차원의 길이가 달라 실패\n",
        "except:\n",
        "  print(\"Fail\")"
      ],
      "metadata": {
        "colab": {
          "base_uri": "https://localhost:8080/"
        },
        "id": "_sIyEaOrtj9s",
        "outputId": "f2b31ce2-b5b6-4ca8-869e-5b461a4a827e"
      },
      "execution_count": 23,
      "outputs": [
        {
          "output_type": "stream",
          "name": "stdout",
          "text": [
            "tensor([[1., 2.],\n",
            "        [3., 4.],\n",
            "        [5., 6.],\n",
            "        [7., 8.]])\n",
            "tensor([[1., 2., 5., 6.],\n",
            "        [3., 4., 7., 8.]])\n",
            "\n",
            "tensor([[ 1.,  2.],\n",
            "        [ 3.,  4.],\n",
            "        [ 5.,  6.],\n",
            "        [ 7.,  8.],\n",
            "        [ 9., 10.]])\n",
            "Fail\n"
          ]
        }
      ]
    },
    {
      "cell_type": "code",
      "source": [
        "'''스택킹(Stacking)'''\n",
        "## torch.stack([A,B,C,....])\n",
        "## A,B,C를 쭉 쌓는다\n",
        "\n",
        "x = torch.FloatTensor([1, 4])\n",
        "y = torch.FloatTensor([2, 5])\n",
        "z = torch.FloatTensor([3, 6])\n",
        "\n",
        "print(torch.stack([x,y,z]))\n",
        "# 동작 원리는 하기와 같다\n",
        "print( torch.cat( [ x.unsqueeze(0), y.unsqueeze(0), z.unsqueeze(0) ] , dim = 0 ) )\n",
        "\n",
        "x = torch.FloatTensor([1, 4])\n",
        "y = torch.FloatTensor([2, 5, 7])\n",
        "z = torch.FloatTensor([3, 6, 8, 9])\n",
        "try: print(torch.stack([x,y,z])) # 역시 길이가 달라 실패\n",
        "except: print(\"Fail\")"
      ],
      "metadata": {
        "colab": {
          "base_uri": "https://localhost:8080/"
        },
        "id": "TJSNdC-ktncM",
        "outputId": "3bd72e1e-17d1-41d1-b869-4f665087efb7"
      },
      "execution_count": 27,
      "outputs": [
        {
          "output_type": "stream",
          "name": "stdout",
          "text": [
            "tensor([[1., 4.],\n",
            "        [2., 5.],\n",
            "        [3., 6.]])\n",
            "tensor([[1., 4.],\n",
            "        [2., 5.],\n",
            "        [3., 6.]])\n",
            "Fail\n"
          ]
        }
      ]
    },
    {
      "cell_type": "code",
      "source": [
        "'''ones_like와 zeros_like'''\n",
        "# 1로 채워진 텐서\n",
        "# 0으로 채워진 텐서\n",
        "\n",
        "\n",
        "x = torch.FloatTensor([[0, 1, 2], [2, 1, 0]])\n",
        "print(x)\n",
        "\n",
        "# x와 같은 크기의, 모든 원소가 1로 채워져있는 Tensor 반환\n",
        "print(torch.ones_like(x))\n",
        "# x와 같은 크기의, 모든 원소가 0으로 채워져있는 Tensor 반환\n",
        "print(torch.zeros_like(x))"
      ],
      "metadata": {
        "colab": {
          "base_uri": "https://localhost:8080/"
        },
        "id": "EdRiNN1KtrgJ",
        "outputId": "aa5640f3-de7c-4f60-9d03-cdbdfc078392"
      },
      "execution_count": 30,
      "outputs": [
        {
          "output_type": "stream",
          "name": "stdout",
          "text": [
            "tensor([[0., 1., 2.],\n",
            "        [2., 1., 0.]])\n",
            "tensor([[1., 1., 1.],\n",
            "        [1., 1., 1.]])\n",
            "tensor([[0., 0., 0.],\n",
            "        [0., 0., 0.]])\n"
          ]
        }
      ]
    },
    {
      "cell_type": "code",
      "source": [
        "'''In-place Operation (덮어쓰기 연산)'''\n",
        "## 연산에 _를 붙이면, 연산 결과가 대상에 덮어써진다!\n",
        "\n",
        "x = torch.FloatTensor([[1, 2], [3, 4]])\n",
        "\n",
        "# 평범한 연산\n",
        "print(x.mul(2.))\n",
        "print(x, end=\"\\n\\n\")\n",
        "  # x.mul 이후에도, x에는 원래 값이 그대로 남아있다\n",
        "\n",
        "# 덮어쓰기 연산\n",
        "print(x.mul_(2.))\n",
        "print(x)\n"
      ],
      "metadata": {
        "colab": {
          "base_uri": "https://localhost:8080/"
        },
        "id": "KqvQAnaktt91",
        "outputId": "3c8a9098-d720-4d15-af9e-67f5e4b2bb39"
      },
      "execution_count": 29,
      "outputs": [
        {
          "output_type": "stream",
          "name": "stdout",
          "text": [
            "tensor([[2., 4.],\n",
            "        [6., 8.]])\n",
            "tensor([[1., 2.],\n",
            "        [3., 4.]])\n",
            "\n",
            "tensor([[2., 4.],\n",
            "        [6., 8.]])\n",
            "tensor([[2., 4.],\n",
            "        [6., 8.]])\n"
          ]
        }
      ]
    },
    {
      "cell_type": "markdown",
      "source": [
        "### 4. 파이썬 클래스"
      ],
      "metadata": {
        "id": "VlkfYE3YkoFo"
      }
    },
    {
      "cell_type": "markdown",
      "source": [
        "4.1. 함수\n"
      ],
      "metadata": {
        "id": "PKNBhUaszZmL"
      }
    },
    {
      "cell_type": "code",
      "source": [
        "''' 함수로 덧셈기 구현'''\n",
        "\n",
        "result = 0 # 전역변수 선언\n",
        "\n",
        "def add(num):\n",
        "  global result\n",
        "  result += num\n",
        "  return result\n",
        "\n",
        "print(add(3))\n",
        "print(add(4))"
      ],
      "metadata": {
        "colab": {
          "base_uri": "https://localhost:8080/"
        },
        "id": "tEehTRawzUMZ",
        "outputId": "a8a1ef21-d446-497f-a440-a5b5bef210ce"
      },
      "execution_count": 31,
      "outputs": [
        {
          "output_type": "stream",
          "name": "stdout",
          "text": [
            "3\n",
            "7\n"
          ]
        }
      ]
    },
    {
      "cell_type": "markdown",
      "source": [
        "4.2. 클래스(Class)"
      ],
      "metadata": {
        "id": "5D6bI4XLz3jg"
      }
    },
    {
      "cell_type": "code",
      "source": [
        "''' Class로 덧셈기 구현'''\n",
        "\n",
        "class Calculator:\n",
        "  # 생성자 선언\n",
        "  def __init__(self):\n",
        "    self.result = 0\n",
        "\n",
        "  def add(self,num):\n",
        "    self.result += num\n",
        "    return self.result\n",
        "\n",
        "cal1 = Calculator()\n",
        "cal2 = Calculator()\n",
        "print(cal1.result)\n",
        "print(cal2.result, end=\"\\n\\n\")\n",
        "\n",
        "print(cal1.add(3))\n",
        "print(cal2.add(4))"
      ],
      "metadata": {
        "id": "pzanoFyBkqpF",
        "colab": {
          "base_uri": "https://localhost:8080/"
        },
        "outputId": "6a564c43-0f5f-4e85-ed00-3a83df525f98"
      },
      "execution_count": 34,
      "outputs": [
        {
          "output_type": "stream",
          "name": "stdout",
          "text": [
            "0\n",
            "0\n",
            "\n",
            "3\n",
            "4\n"
          ]
        }
      ]
    }
  ]
}